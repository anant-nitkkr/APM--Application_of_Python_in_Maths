{
  "cells": [
    {
      "cell_type": "markdown",
      "metadata": {
        "id": "edqAVG8PA4S5"
      },
      "source": [
        "# Python in Mathematics - Colab Notebook"
      ],
      "id": "edqAVG8PA4S5"
    },
    {
      "cell_type": "markdown",
      "metadata": {
        "id": "lJneWyXNA4S6"
      },
      "source": [
        "## Section 1: Introduction to Python\n",
        "\n",
        "### Introduction to Python\n",
        "\n",
        "Python is a versatile, high-level programming language known for its simplicity and readability. Developed by Guido van Rossum in 1991, Python emphasizes code readability and allows developers to express concepts in fewer lines of code compared to other programming languages.\n",
        "\n",
        "---\n",
        "\n",
        "#### **Key Features of Python**\n",
        "- **Easy to Learn and Use**: Python's syntax is simple and intuitive, making it an ideal choice for beginners and professionals alike.\n",
        "- **Open-Source**: Python is free to use and distribute, with a large, supportive community contributing to its ecosystem.\n",
        "- **Cross-Platform**: Python works seamlessly across Windows, macOS, and Linux.\n",
        "- **Rich Libraries**: Python offers powerful libraries for tasks like data analysis, scientific computing, and machine learning.\n",
        "- **Dynamic Typing**: No need for explicit variable declarations; Python infers types automatically.\n",
        "\n",
        "---\n",
        "\n",
        "#### **Why Learn Python?**\n",
        "- 🌟 **Beginner-Friendly**: Python's straightforward syntax is perfect for learning programming basics.  \n",
        "- ⚙️ **Versatile Applications**: It powers a wide range of fields, including web development, AI, data science, and automation.  \n",
        "- 🧠 **Problem-Solving Power**: Use Python to solve real-world problems, from mathematics to software engineering.  \n",
        "- 📚 **Extensive Libraries**: With tools like NumPy and SymPy, Python simplifies complex mathematical computations.  \n",
        "- 🎨 **Data Visualization**: Libraries like Matplotlib and Seaborn enable visually appealing data representation.  \n",
        "- 🌐 **Career Opportunities**: Python's demand in tech industries makes it a valuable skill for job seekers.  \n",
        "\n",
        "---\n",
        "\n",
        "#### **Applications in Mathematics**\n",
        "Python is a popular choice for mathematicians and data scientists because it can:\n",
        "- Solve algebraic and numerical equations.\n",
        "- Perform symbolic computation with libraries like **SymPy**.\n",
        "- Handle numerical matrices and arrays efficiently using **NumPy**.\n",
        "- Visualize mathematical models and data with **Matplotlib**.\n",
        "- Simplify advanced operations like calculus, differential equations, and optimizations.\n",
        "\n",
        "Python's versatility makes it a critical tool for students, researchers, and professionals across disciplines."
      ],
      "id": "lJneWyXNA4S6"
    },
    {
      "cell_type": "code",
      "execution_count": null,
      "metadata": {
        "colab": {
          "base_uri": "https://localhost:8080/"
        },
        "id": "S--Z_JIXA4S6",
        "outputId": "766419d0-3b94-40b9-ceb9-2928452bd11c"
      },
      "outputs": [
        {
          "output_type": "stream",
          "name": "stdout",
          "text": [
            "Welcome to Python in Mathematics\n"
          ]
        }
      ],
      "source": [
        "# Python basics\n",
        "print(\"Welcome to Python in Mathematics\")\n",
        "\n"
      ],
      "id": "S--Z_JIXA4S6"
    },
    {
      "cell_type": "markdown",
      "source": [
        "### commenting"
      ],
      "metadata": {
        "id": "foZf4gCbPmSC"
      },
      "id": "foZf4gCbPmSC"
    },
    {
      "cell_type": "code",
      "source": [
        "# this is a one line comment\n",
        "'single line comment'\n",
        "\"\"\"this is a multi-line\n",
        "comment(triple quote)\"\"\""
      ],
      "metadata": {
        "colab": {
          "base_uri": "https://localhost:8080/",
          "height": 35
        },
        "id": "Wb3wUGA1PfrL",
        "outputId": "6ae96962-f33e-444d-f88b-821e0058ff34"
      },
      "id": "Wb3wUGA1PfrL",
      "execution_count": null,
      "outputs": [
        {
          "output_type": "execute_result",
          "data": {
            "text/plain": [
              "'this is a multi-line \\ncomment(triple quote)'"
            ],
            "application/vnd.google.colaboratory.intrinsic+json": {
              "type": "string"
            }
          },
          "metadata": {},
          "execution_count": 31
        }
      ]
    },
    {
      "cell_type": "markdown",
      "source": [
        "### data types\n",
        "\n"
      ],
      "metadata": {
        "id": "U_kaXjsdQNmC"
      },
      "id": "U_kaXjsdQNmC"
    },
    {
      "cell_type": "code",
      "source": [
        "# Examples\n",
        "a = 10       # int\n",
        "b = 3.14     # float\n",
        "c = 2 + 3j   # complex\n",
        "text = \"Hello, Python!\"  # str\n",
        "my_list = [1, 2, 3, 4]   # list\n",
        "my_tuple = (5, 6, 7, 8)  # tuple\n",
        "\n",
        "print(type(a))  # <class 'int'>\n",
        "print(type(b))  # <class 'float'>\n",
        "print(type(c))  # <class 'complex'>\n",
        "print(type(text))   # <class 'str'>\n",
        "print(type(my_list)) # <class 'list'>\n",
        "print(type(my_tuple)) # <class 'tuple'>"
      ],
      "metadata": {
        "colab": {
          "base_uri": "https://localhost:8080/"
        },
        "id": "NtKYC2p-QNJa",
        "outputId": "d1de2e9c-ae6f-44b9-aad7-6e276731d0f9"
      },
      "id": "NtKYC2p-QNJa",
      "execution_count": null,
      "outputs": [
        {
          "output_type": "stream",
          "name": "stdout",
          "text": [
            "<class 'int'>\n",
            "<class 'float'>\n",
            "<class 'complex'>\n",
            "<class 'str'>\n",
            "<class 'list'>\n",
            "<class 'tuple'>\n"
          ]
        }
      ]
    },
    {
      "cell_type": "markdown",
      "source": [
        "### Numbers"
      ],
      "metadata": {
        "id": "xOqJCX6EV4yS"
      },
      "id": "xOqJCX6EV4yS"
    },
    {
      "cell_type": "code",
      "source": [
        "x = 1    # int\n",
        "y = 2.8  # float\n",
        "z = 1j   # complex\n",
        "\n",
        "print(type(x))\n",
        "print(type(y))\n",
        "print(type(z))"
      ],
      "metadata": {
        "colab": {
          "base_uri": "https://localhost:8080/"
        },
        "id": "HNI3rN7BV9iy",
        "outputId": "d3d54a59-ed6a-4fee-8769-9f0fddc63e05"
      },
      "id": "HNI3rN7BV9iy",
      "execution_count": null,
      "outputs": [
        {
          "output_type": "stream",
          "name": "stdout",
          "text": [
            "<class 'int'>\n",
            "<class 'float'>\n",
            "<class 'complex'>\n"
          ]
        }
      ]
    },
    {
      "cell_type": "markdown",
      "source": [
        "### Booleans"
      ],
      "metadata": {
        "id": "6a9T_CWgWWp5"
      },
      "id": "6a9T_CWgWWp5"
    },
    {
      "cell_type": "code",
      "source": [
        "print(10 > 9)\n"
      ],
      "metadata": {
        "colab": {
          "base_uri": "https://localhost:8080/"
        },
        "id": "3X_TcgHIWYuZ",
        "outputId": "97c067e9-81b5-4ff4-8d2c-ebb659513bf8"
      },
      "id": "3X_TcgHIWYuZ",
      "execution_count": null,
      "outputs": [
        {
          "output_type": "stream",
          "name": "stdout",
          "text": [
            "True\n"
          ]
        }
      ]
    },
    {
      "cell_type": "code",
      "source": [
        "print(10 == 9)\n"
      ],
      "metadata": {
        "colab": {
          "base_uri": "https://localhost:8080/"
        },
        "id": "s-reVY1xWbfJ",
        "outputId": "f81c5217-981e-4531-f492-579533e7fca7"
      },
      "id": "s-reVY1xWbfJ",
      "execution_count": null,
      "outputs": [
        {
          "output_type": "stream",
          "name": "stdout",
          "text": [
            "False\n"
          ]
        }
      ]
    },
    {
      "cell_type": "code",
      "source": [
        "print(10 < 9)"
      ],
      "metadata": {
        "colab": {
          "base_uri": "https://localhost:8080/"
        },
        "id": "WzFLHU7nWc0a",
        "outputId": "a8a7f9da-c4f3-447f-bfdb-33cc9e7194f1"
      },
      "id": "WzFLHU7nWc0a",
      "execution_count": null,
      "outputs": [
        {
          "output_type": "stream",
          "name": "stdout",
          "text": [
            "False\n"
          ]
        }
      ]
    },
    {
      "cell_type": "code",
      "source": [
        "a = 2025\n",
        "b = 2024\n",
        "\n",
        "if b > a:\n",
        "  print(\"b is greater than a\")\n",
        "else:\n",
        "  print(\"b is not greater than a\")"
      ],
      "metadata": {
        "colab": {
          "base_uri": "https://localhost:8080/"
        },
        "id": "GZArTMWFWihi",
        "outputId": "f7eda958-51e0-454f-dd0f-3a6dce0276b9"
      },
      "id": "GZArTMWFWihi",
      "execution_count": null,
      "outputs": [
        {
          "output_type": "stream",
          "name": "stdout",
          "text": [
            "b is not greater than a\n"
          ]
        }
      ]
    },
    {
      "cell_type": "markdown",
      "source": [
        "### Operator"
      ],
      "metadata": {
        "id": "6-f-WRF9WsCQ"
      },
      "id": "6-f-WRF9WsCQ"
    },
    {
      "cell_type": "code",
      "source": [
        "# Variables and simple operations\n",
        "a = 10\n",
        "b = 5\n",
        "print(\"Sum:\", a + b)\n",
        "print(\"Product:\", a * b)"
      ],
      "metadata": {
        "colab": {
          "base_uri": "https://localhost:8080/"
        },
        "id": "7D_5y1XXBorI",
        "outputId": "0af567c7-531e-4594-b6e3-a12dd61893d4"
      },
      "id": "7D_5y1XXBorI",
      "execution_count": null,
      "outputs": [
        {
          "output_type": "stream",
          "name": "stdout",
          "text": [
            "Sum: 15\n",
            "Product: 50\n"
          ]
        }
      ]
    },
    {
      "cell_type": "code",
      "source": [
        "print(a % b) # modulus"
      ],
      "metadata": {
        "colab": {
          "base_uri": "https://localhost:8080/"
        },
        "id": "QnfMWGWEWzxZ",
        "outputId": "51afc857-435e-487d-b8d5-aef082e4f351"
      },
      "id": "QnfMWGWEWzxZ",
      "execution_count": null,
      "outputs": [
        {
          "output_type": "stream",
          "name": "stdout",
          "text": [
            "0\n"
          ]
        }
      ]
    },
    {
      "cell_type": "code",
      "source": [
        "print(a // b)\n",
        "\n",
        "#the floor division // rounds the result down to the nearest whole number"
      ],
      "metadata": {
        "colab": {
          "base_uri": "https://localhost:8080/"
        },
        "id": "-pFctrgDXCg5",
        "outputId": "238fdf5f-7ea4-4a08-b691-b1e16faad954"
      },
      "id": "-pFctrgDXCg5",
      "execution_count": null,
      "outputs": [
        {
          "output_type": "stream",
          "name": "stdout",
          "text": [
            "2\n"
          ]
        }
      ]
    },
    {
      "cell_type": "markdown",
      "source": [
        "### Lists"
      ],
      "metadata": {
        "id": "ImPBBjSjXetK"
      },
      "id": "ImPBBjSjXetK"
    },
    {
      "cell_type": "code",
      "source": [
        "fruits = [\"apple\", \"banana\", \"cherry\"] # make a list\n",
        "print(fruits)"
      ],
      "metadata": {
        "colab": {
          "base_uri": "https://localhost:8080/"
        },
        "id": "ND7q2VsaW-4h",
        "outputId": "352f95e9-06f6-4e8d-9b5c-6ed0c407710b"
      },
      "id": "ND7q2VsaW-4h",
      "execution_count": null,
      "outputs": [
        {
          "output_type": "stream",
          "name": "stdout",
          "text": [
            "['apple', 'banana', 'cherry']\n"
          ]
        }
      ]
    },
    {
      "cell_type": "code",
      "source": [
        "print(fruits[1]) # access elements in a list: index starting from 0"
      ],
      "metadata": {
        "colab": {
          "base_uri": "https://localhost:8080/"
        },
        "id": "AEL9lduGXqeB",
        "outputId": "f9421b94-df5f-4f65-da6e-43a762608975"
      },
      "id": "AEL9lduGXqeB",
      "execution_count": null,
      "outputs": [
        {
          "output_type": "stream",
          "name": "stdout",
          "text": [
            "banana\n"
          ]
        }
      ]
    },
    {
      "cell_type": "code",
      "source": [
        "fruits.append(\"orange\")\n",
        "print(fruits)"
      ],
      "metadata": {
        "colab": {
          "base_uri": "https://localhost:8080/"
        },
        "id": "N0-Taey6X_3Z",
        "outputId": "21d89e9e-cf43-4736-91bd-636cc50fca83"
      },
      "id": "N0-Taey6X_3Z",
      "execution_count": null,
      "outputs": [
        {
          "output_type": "stream",
          "name": "stdout",
          "text": [
            "['apple', 'banana', 'cherry', 'orange']\n"
          ]
        }
      ]
    },
    {
      "cell_type": "code",
      "source": [
        "fruits.remove(\"banana\")\n",
        "print(fruits)"
      ],
      "metadata": {
        "colab": {
          "base_uri": "https://localhost:8080/"
        },
        "id": "vmqGE0jFYFqB",
        "outputId": "5afbfb14-4d9a-4933-dd06-adb3b490cb8d"
      },
      "id": "vmqGE0jFYFqB",
      "execution_count": null,
      "outputs": [
        {
          "output_type": "stream",
          "name": "stdout",
          "text": [
            "['apple', 'cherry', 'orange']\n"
          ]
        }
      ]
    },
    {
      "cell_type": "code",
      "source": [
        "for x in fruits:\n",
        "  print(x)"
      ],
      "metadata": {
        "colab": {
          "base_uri": "https://localhost:8080/"
        },
        "id": "9-M1no81YVIZ",
        "outputId": "0aea6527-f61a-4e00-8ce4-6140c06b2662"
      },
      "id": "9-M1no81YVIZ",
      "execution_count": null,
      "outputs": [
        {
          "output_type": "stream",
          "name": "stdout",
          "text": [
            "apple\n",
            "cherry\n",
            "orange\n"
          ]
        }
      ]
    },
    {
      "cell_type": "code",
      "source": [
        "fruits.sort()\n",
        "print(fruits)"
      ],
      "metadata": {
        "colab": {
          "base_uri": "https://localhost:8080/"
        },
        "id": "dYWBdXGbYbPB",
        "outputId": "cb7b6ae3-559c-4abf-d308-413d7024cb56"
      },
      "id": "dYWBdXGbYbPB",
      "execution_count": null,
      "outputs": [
        {
          "output_type": "stream",
          "name": "stdout",
          "text": [
            "['apple', 'cherry', 'orange']\n"
          ]
        }
      ]
    },
    {
      "cell_type": "markdown",
      "source": [
        "### set"
      ],
      "metadata": {
        "id": "psTHZy-YYnmB"
      },
      "id": "psTHZy-YYnmB"
    },
    {
      "cell_type": "code",
      "source": [
        "thisset = {\"apple\", \"banana\", \"cherry\"} # no element is repeated\n",
        "print(thisset)"
      ],
      "metadata": {
        "colab": {
          "base_uri": "https://localhost:8080/"
        },
        "id": "LVvhG37TYpZB",
        "outputId": "2d0f48f1-06b2-47d7-e71f-2471fc1a725d"
      },
      "id": "LVvhG37TYpZB",
      "execution_count": null,
      "outputs": [
        {
          "output_type": "stream",
          "name": "stdout",
          "text": [
            "{'apple', 'cherry', 'banana'}\n"
          ]
        }
      ]
    },
    {
      "cell_type": "code",
      "source": [
        "for x in thisset: # access set element\n",
        "  print(x)"
      ],
      "metadata": {
        "colab": {
          "base_uri": "https://localhost:8080/"
        },
        "id": "Rjy9mw7NYxQx",
        "outputId": "9cef54ba-583b-426a-9e1b-55c081afce44"
      },
      "id": "Rjy9mw7NYxQx",
      "execution_count": null,
      "outputs": [
        {
          "output_type": "stream",
          "name": "stdout",
          "text": [
            "apple\n",
            "cherry\n",
            "banana\n"
          ]
        }
      ]
    },
    {
      "cell_type": "code",
      "source": [
        "thisset.add(\"orange\") #add element in set\n",
        "print(thisset)"
      ],
      "metadata": {
        "colab": {
          "base_uri": "https://localhost:8080/"
        },
        "id": "9W_W6P0jY3nI",
        "outputId": "00c6a68d-b555-4401-b5a6-1f6d9b3c6c8b"
      },
      "id": "9W_W6P0jY3nI",
      "execution_count": null,
      "outputs": [
        {
          "output_type": "stream",
          "name": "stdout",
          "text": [
            "{'apple', 'cherry', 'banana', 'orange'}\n"
          ]
        }
      ]
    },
    {
      "cell_type": "code",
      "source": [
        "thisset.remove(\"apple\")\n",
        "\n",
        "print(thisset)"
      ],
      "metadata": {
        "colab": {
          "base_uri": "https://localhost:8080/"
        },
        "id": "CCsBbTAyY-M5",
        "outputId": "d5b8daae-7a27-4a41-a00d-dac8dfde8329"
      },
      "id": "CCsBbTAyY-M5",
      "execution_count": null,
      "outputs": [
        {
          "output_type": "stream",
          "name": "stdout",
          "text": [
            "{'cherry', 'banana', 'orange'}\n"
          ]
        }
      ]
    },
    {
      "cell_type": "markdown",
      "source": [
        "### dictionary"
      ],
      "metadata": {
        "id": "mhpU4_LaasTi"
      },
      "id": "mhpU4_LaasTi"
    },
    {
      "cell_type": "code",
      "source": [
        "thisdict = {\n",
        "  \"brand\": \"Ford\",\n",
        "  \"model\": \"Mustang\",\n",
        "  \"year\": 1964\n",
        "}\n",
        "\n",
        "print(thisdict)"
      ],
      "metadata": {
        "colab": {
          "base_uri": "https://localhost:8080/"
        },
        "id": "qIhM9GPuZF5B",
        "outputId": "ede3bcfb-97ba-4259-95e3-c992c3dd24b7"
      },
      "id": "qIhM9GPuZF5B",
      "execution_count": null,
      "outputs": [
        {
          "output_type": "stream",
          "name": "stdout",
          "text": [
            "{'brand': 'Ford', 'model': 'Mustang', 'year': 1964}\n"
          ]
        }
      ]
    },
    {
      "cell_type": "code",
      "source": [
        "x = thisdict[\"model\"] # access element"
      ],
      "metadata": {
        "id": "HoLdVPG9ZL7q"
      },
      "id": "HoLdVPG9ZL7q",
      "execution_count": null,
      "outputs": []
    },
    {
      "cell_type": "markdown",
      "metadata": {
        "id": "31mDZewRA4S7"
      },
      "source": [
        "## Section 2: Looping in Python"
      ],
      "id": "31mDZewRA4S7"
    },
    {
      "cell_type": "code",
      "execution_count": null,
      "metadata": {
        "colab": {
          "base_uri": "https://localhost:8080/"
        },
        "id": "nrJPN-E-A4S7",
        "outputId": "63c57c48-8dca-4326-a56b-55224502fcc5"
      },
      "outputs": [
        {
          "output_type": "stream",
          "name": "stdout",
          "text": [
            "Square of 1: 1\n",
            "Square of 2: 4\n",
            "Square of 3: 9\n",
            "Square of 4: 16\n",
            "Square of 5: 25\n"
          ]
        }
      ],
      "source": [
        "# For loop example\n",
        "for i in range(1, 6):\n",
        "    print(f\"Square of {i}: {i**2}\")\n",
        "\n"
      ],
      "id": "nrJPN-E-A4S7"
    },
    {
      "cell_type": "code",
      "source": [
        "# While loop example\n",
        "n = 5\n",
        "while n > 0:\n",
        "    print(f\"Countdown: {n}\")\n",
        "    n -= 1\n",
        "\n"
      ],
      "metadata": {
        "colab": {
          "base_uri": "https://localhost:8080/"
        },
        "id": "PdFTzMPxBqX3",
        "outputId": "13c54443-602c-40ac-cfa0-f02ce78832b4"
      },
      "id": "PdFTzMPxBqX3",
      "execution_count": null,
      "outputs": [
        {
          "output_type": "stream",
          "name": "stdout",
          "text": [
            "Countdown: 5\n",
            "Countdown: 4\n",
            "Countdown: 3\n",
            "Countdown: 2\n",
            "Countdown: 1\n"
          ]
        }
      ]
    },
    {
      "cell_type": "code",
      "source": [
        "# List comprehension example\n",
        "squares = [x**2 for x in range(1, 6)]\n",
        "print(\"Squares using list comprehension:\", squares)"
      ],
      "metadata": {
        "colab": {
          "base_uri": "https://localhost:8080/"
        },
        "id": "cg893D7qBrx4",
        "outputId": "c520d6bb-4688-4dac-81c7-d0c8b210d6be"
      },
      "id": "cg893D7qBrx4",
      "execution_count": null,
      "outputs": [
        {
          "output_type": "stream",
          "name": "stdout",
          "text": [
            "Squares using list comprehension: [1, 4, 9, 16, 25]\n"
          ]
        }
      ]
    },
    {
      "cell_type": "markdown",
      "source": [
        "### calling a function"
      ],
      "metadata": {
        "id": "G5OW-0y_Za4J"
      },
      "id": "G5OW-0y_Za4J"
    },
    {
      "cell_type": "code",
      "source": [
        "def my_function():\n",
        "  print(\"Hello I am a function\")\n",
        "\n",
        "my_function()"
      ],
      "metadata": {
        "colab": {
          "base_uri": "https://localhost:8080/"
        },
        "id": "_4mNXJqsZdMB",
        "outputId": "a4838439-355d-4a95-e5aa-89b45933652c"
      },
      "id": "_4mNXJqsZdMB",
      "execution_count": null,
      "outputs": [
        {
          "output_type": "stream",
          "name": "stdout",
          "text": [
            "Hello I am a function\n"
          ]
        }
      ]
    },
    {
      "cell_type": "markdown",
      "source": [
        "### arguments"
      ],
      "metadata": {
        "id": "WWqj_ZUHZh3h"
      },
      "id": "WWqj_ZUHZh3h"
    },
    {
      "cell_type": "code",
      "source": [
        "def my_function(fname):\n",
        "  print(fname + \" NIT Kurukshetra\")\n",
        "\n",
        "my_function(\"Department\")\n",
        "my_function(\"ANANT\")"
      ],
      "metadata": {
        "colab": {
          "base_uri": "https://localhost:8080/"
        },
        "id": "IHdktwtpZkRB",
        "outputId": "d7fb327b-dcf5-4737-946d-c3891489b9e8"
      },
      "id": "IHdktwtpZkRB",
      "execution_count": null,
      "outputs": [
        {
          "output_type": "stream",
          "name": "stdout",
          "text": [
            "Department NIT Kurukshetra\n",
            "ANANT NIT Kurukshetra\n"
          ]
        }
      ]
    },
    {
      "cell_type": "markdown",
      "metadata": {
        "id": "zchIh68NA4S7"
      },
      "source": [
        "## Section 3: Python Libraries Overview"
      ],
      "id": "zchIh68NA4S7"
    },
    {
      "cell_type": "code",
      "execution_count": null,
      "metadata": {
        "colab": {
          "base_uri": "https://localhost:8080/"
        },
        "id": "9oPFq7PbA4S7",
        "outputId": "e77123da-c0b8-40d2-9782-edbbcb856589"
      },
      "outputs": [
        {
          "output_type": "stream",
          "name": "stdout",
          "text": [
            "Libraries imported successfully!\n"
          ]
        }
      ],
      "source": [
        "# Importing essential libraries\n",
        "import numpy as np\n",
        "import sympy as sp\n",
        "import matplotlib.pyplot as plt\n",
        "\n",
        "print(\"Libraries imported successfully!\")"
      ],
      "id": "9oPFq7PbA4S7"
    },
    {
      "cell_type": "markdown",
      "metadata": {
        "id": "LHVdQos_A4S7"
      },
      "source": [
        "## Section 4: NumPy"
      ],
      "id": "LHVdQos_A4S7"
    },
    {
      "cell_type": "code",
      "execution_count": null,
      "metadata": {
        "colab": {
          "base_uri": "https://localhost:8080/"
        },
        "id": "qAGfQ9RSA4S7",
        "outputId": "a47b8147-cd0b-42b2-cbed-ae2484ee3df5"
      },
      "outputs": [
        {
          "output_type": "stream",
          "name": "stdout",
          "text": [
            "Original Array: [1 2 3 4 5]\n",
            "Array Squared: [ 1  4  9 16 25]\n"
          ]
        }
      ],
      "source": [
        "# Array operations\n",
        "arr = np.array([1, 2, 3, 4, 5])\n",
        "print(\"Original Array:\", arr)\n",
        "print(\"Array Squared:\", arr**2)\n",
        "\n"
      ],
      "id": "qAGfQ9RSA4S7"
    },
    {
      "cell_type": "code",
      "source": [
        "# Matrix operations\n",
        "matrix1 = np.array([[1, 2], [3, 4]])\n",
        "matrix2 = np.array([[5, 6], [7, 8]])\n",
        "print(\"Matrix Multiplication:\", np.dot(matrix1, matrix2))\n",
        "\n"
      ],
      "metadata": {
        "colab": {
          "base_uri": "https://localhost:8080/"
        },
        "id": "kVByQ5JKBufI",
        "outputId": "2c6543ab-ede1-4d60-bf8f-9ab6bd8a5139"
      },
      "id": "kVByQ5JKBufI",
      "execution_count": null,
      "outputs": [
        {
          "output_type": "stream",
          "name": "stdout",
          "text": [
            "Matrix Multiplication: [[19 22]\n",
            " [43 50]]\n"
          ]
        }
      ]
    },
    {
      "cell_type": "code",
      "source": [
        "# Calculus example\n",
        "x = np.linspace(0, 10, 100)\n",
        "y = np.sin(x)\n",
        "print(\"Sine values:\", y[:5])  # Displaying first 5 values\n",
        "\n"
      ],
      "metadata": {
        "colab": {
          "base_uri": "https://localhost:8080/"
        },
        "id": "gapNKmRcBwbw",
        "outputId": "546930db-37b8-415f-fd0f-d764a272af43"
      },
      "id": "gapNKmRcBwbw",
      "execution_count": null,
      "outputs": [
        {
          "output_type": "stream",
          "name": "stdout",
          "text": [
            "Sine values: [0.         0.10083842 0.20064886 0.2984138  0.39313661]\n"
          ]
        }
      ]
    },
    {
      "cell_type": "code",
      "source": [
        "# Trigonometric functions\n",
        "angles = np.array([0, np.pi/2, np.pi])\n",
        "print(\"Sin values:\", np.sin(angles))\n",
        "print(\"Cos values:\", np.cos(angles))"
      ],
      "metadata": {
        "colab": {
          "base_uri": "https://localhost:8080/"
        },
        "id": "WxY4KPEVBx6f",
        "outputId": "afe3d2ec-04e1-4df7-926d-bacd396b0936"
      },
      "id": "WxY4KPEVBx6f",
      "execution_count": null,
      "outputs": [
        {
          "output_type": "stream",
          "name": "stdout",
          "text": [
            "Sin values: [0.0000000e+00 1.0000000e+00 1.2246468e-16]\n",
            "Cos values: [ 1.000000e+00  6.123234e-17 -1.000000e+00]\n"
          ]
        }
      ]
    },
    {
      "cell_type": "markdown",
      "metadata": {
        "id": "omozJHCsA4S7"
      },
      "source": [
        "## Section 5: SymPy"
      ],
      "id": "omozJHCsA4S7"
    },
    {
      "cell_type": "code",
      "execution_count": null,
      "metadata": {
        "colab": {
          "base_uri": "https://localhost:8080/"
        },
        "id": "9tzzjGnnA4S8",
        "outputId": "dfd28687-1812-483f-aa56-03db43929c90"
      },
      "outputs": [
        {
          "output_type": "stream",
          "name": "stdout",
          "text": [
            "Expression: x**2 + 3*x + 2\n",
            "Derivative: 2*x + 3\n",
            "Integral: x**3/3 + 3*x**2/2 + 2*x\n"
          ]
        }
      ],
      "source": [
        "# Symbols and algebraic operations\n",
        "x = sp.symbols('x')\n",
        "expression = x**2 + 3*x + 2\n",
        "print(\"Expression:\", expression)\n",
        "print(\"Derivative:\", sp.diff(expression, x))\n",
        "print(\"Integral:\", sp.integrate(expression, x))\n",
        "\n"
      ],
      "id": "9tzzjGnnA4S8"
    },
    {
      "cell_type": "code",
      "source": [
        "# Solving equations\n",
        "eq = sp.Eq(x**2 + 3*x + 2, 0)\n",
        "solutions = sp.solve(eq, x)\n",
        "print(\"Solutions:\", solutions)\n",
        "\n"
      ],
      "metadata": {
        "colab": {
          "base_uri": "https://localhost:8080/"
        },
        "id": "tchZw2ORB0AA",
        "outputId": "63c690bf-cbde-4583-ca88-5321208ecdbb"
      },
      "id": "tchZw2ORB0AA",
      "execution_count": null,
      "outputs": [
        {
          "output_type": "stream",
          "name": "stdout",
          "text": [
            "Solutions: [-2, -1]\n"
          ]
        }
      ]
    },
    {
      "cell_type": "code",
      "source": [
        "# Simplifying expressions\n",
        "expr = (x**2 + 2*x + 1) / (x + 1)\n",
        "simplified = sp.simplify(expr)\n",
        "print(\"Simplified Expression:\", simplified)\n",
        "\n"
      ],
      "metadata": {
        "colab": {
          "base_uri": "https://localhost:8080/"
        },
        "id": "-W3Y6ottB1dY",
        "outputId": "046d549d-e05e-434b-bed4-eaebd28451e9"
      },
      "id": "-W3Y6ottB1dY",
      "execution_count": null,
      "outputs": [
        {
          "output_type": "stream",
          "name": "stdout",
          "text": [
            "Simplified Expression: x + 1\n"
          ]
        }
      ]
    },
    {
      "cell_type": "code",
      "source": [
        "# Series expansion\n",
        "taylor_series = sp.series(sp.sin(x), x, 0, 5)\n",
        "print(\"Taylor Series:\", taylor_series)\n",
        "\n"
      ],
      "metadata": {
        "colab": {
          "base_uri": "https://localhost:8080/"
        },
        "id": "W9HCidINB3FI",
        "outputId": "538a106a-defa-417f-c41c-171b8e514e22"
      },
      "id": "W9HCidINB3FI",
      "execution_count": null,
      "outputs": [
        {
          "output_type": "stream",
          "name": "stdout",
          "text": [
            "Taylor Series: x - x**3/6 + O(x**5)\n"
          ]
        }
      ]
    },
    {
      "cell_type": "code",
      "source": [
        "# Solving differential equations\n",
        "f = sp.Function('f')\n",
        "ode = sp.Eq(f(x).diff(x, x) + f(x), 0)\n",
        "solution = sp.dsolve(ode)\n",
        "print(\"ODE Solution:\", solution)"
      ],
      "metadata": {
        "colab": {
          "base_uri": "https://localhost:8080/"
        },
        "id": "fMtVkaBBB4kI",
        "outputId": "5c812792-922f-48a6-bc15-4baca757676b"
      },
      "id": "fMtVkaBBB4kI",
      "execution_count": null,
      "outputs": [
        {
          "output_type": "stream",
          "name": "stdout",
          "text": [
            "ODE Solution: Eq(f(x), C1*sin(x) + C2*cos(x))\n"
          ]
        }
      ]
    },
    {
      "cell_type": "markdown",
      "metadata": {
        "id": "CW1SdDUQA4S8"
      },
      "source": [
        "## Section 6: Matplotlib"
      ],
      "id": "CW1SdDUQA4S8"
    },
    {
      "cell_type": "code",
      "execution_count": null,
      "metadata": {
        "colab": {
          "base_uri": "https://localhost:8080/",
          "height": 472
        },
        "id": "9ue9Ml-SA4S8",
        "outputId": "e73e2a4b-3ee4-4b2a-d009-1f80f04de9f4"
      },
      "outputs": [
        {
          "output_type": "display_data",
          "data": {
            "text/plain": [
              "<Figure size 640x480 with 1 Axes>"
            ],
            "image/png": "[encoded data removed]"
          },
          "metadata": {}
        }
      ],
      "source": [
        "# Line plot\n",
        "x = np.linspace(0, 10, 100)\n",
        "y = x**2\n",
        "plt.plot(x, y, label=\"y = x^2\")\n",
        "plt.title(\"Line Plot\")\n",
        "plt.xlabel(\"x-axis\")\n",
        "plt.ylabel(\"y-axis\")\n",
        "plt.legend()\n",
        "plt.show()\n",
        "\n"
      ],
      "id": "9ue9Ml-SA4S8"
    },
    {
      "cell_type": "code",
      "source": [
        "# Bar chart\n",
        "categories = ['A', 'B', 'C', 'D']\n",
        "values = [10, 15, 7, 12]\n",
        "plt.bar(categories, values, color='purple')\n",
        "plt.title(\"Bar Chart Example\")\n",
        "plt.show()\n",
        "\n"
      ],
      "metadata": {
        "colab": {
          "base_uri": "https://localhost:8080/",
          "height": 452
        },
        "id": "spqPmld0B6xQ",
        "outputId": "122ba411-ad9a-4683-a467-eb1252ab61dc"
      },
      "id": "spqPmld0B6xQ",
      "execution_count": null,
      "outputs": [
        {
          "output_type": "display_data",
          "data": {
            "text/plain": [
              "<Figure size 640x480 with 1 Axes>"
            ],
            "image/png": "[encoded data removed]"
          },
          "metadata": {}
        }
      ]
    },
    {
      "cell_type": "code",
      "source": [
        "# Scatter plot\n",
        "x = [1, 2, 3, 4, 5]\n",
        "y = [5, 7, 6, 8, 7]\n",
        "plt.scatter(x, y, color='orange')\n",
        "plt.title(\"Scatter Plot Example\")\n",
        "plt.xlabel(\"x-axis\")\n",
        "plt.ylabel(\"y-axis\")\n",
        "plt.show()\n",
        "\n"
      ],
      "metadata": {
        "colab": {
          "base_uri": "https://localhost:8080/",
          "height": 472
        },
        "id": "Au-FHn0nB8WQ",
        "outputId": "00c1b324-e882-4e7e-b563-061faea16b47"
      },
      "id": "Au-FHn0nB8WQ",
      "execution_count": null,
      "outputs": [
        {
          "output_type": "display_data",
          "data": {
            "text/plain": [
              "<Figure size 640x480 with 1 Axes>"
            ],
            "image/png": "[encoded data removed]"
          },
          "metadata": {}
        }
      ]
    },
    {
      "cell_type": "code",
      "source": [
        "# Subplots\n",
        "fig, ax = plt.subplots(2, 1)\n",
        "x = np.linspace(0, 10, 100)\n",
        "ax[0].plot(x, np.sin(x), color='blue')\n",
        "ax[0].set_title(\"Sine Wave\")\n",
        "ax[1].plot(x, np.cos(x), color='green')\n",
        "ax[1].set_title(\"Cosine Wave\")\n",
        "plt.tight_layout()\n",
        "plt.show()"
      ],
      "metadata": {
        "colab": {
          "base_uri": "https://localhost:8080/",
          "height": 486
        },
        "id": "T3OhPT5yB9wZ",
        "outputId": "f4dbb83f-1b39-4fa3-9dfc-b81d10cf05cb"
      },
      "id": "T3OhPT5yB9wZ",
      "execution_count": null,
      "outputs": [
        {
          "output_type": "display_data",
          "data": {
            "text/plain": [
              "<Figure size 640x480 with 2 Axes>"
            ],
            "image/png": "[encoded data removed]"
          },
          "metadata": {}
        }
      ]
    },
    {
      "cell_type": "markdown",
      "metadata": {
        "id": "5LIjYLHaA4S8"
      },
      "source": [
        "## Thank You"
      ],
      "id": "5LIjYLHaA4S8"
    },
    {
      "cell_type": "code",
      "execution_count": null,
      "metadata": {
        "colab": {
          "base_uri": "https://localhost:8080/"
        },
        "id": "6owjBsIiA4S8",
        "outputId": "a7019e8c-30fa-447a-912f-45e4c34afb82"
      },
      "outputs": [
        {
          "output_type": "stream",
          "name": "stdout",
          "text": [
            "Thank you for exploring Python in Mathematics!\n"
          ]
        }
      ],
      "source": [
        "print(\"Thank you for exploring Python in Mathematics!\")"
      ],
      "id": "6owjBsIiA4S8"
    }
  ],
  "metadata": {
    "kernelspec": {
      "display_name": "Python 3",
      "language": "python",
      "name": "python3"
    },
    "language_info": {
      "codemirror_mode": {
        "name": "ipython",
        "version": 3
      },
      "file_extension": ".py",
      "mimetype": "text/x-python",
      "name": "python",
      "nbconvert_exporter": "python",
      "pygments_lexer": "ipython3",
      "version": "3.8.10"
    },
    "colab": {
      "provenance": []
    }
  },
  "nbformat": 4,
  "nbformat_minor": 5
}